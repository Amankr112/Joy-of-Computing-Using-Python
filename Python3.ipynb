{
 "cells": [
  {
   "cell_type": "code",
   "execution_count": 15,
   "id": "75433ab9-88af-4305-bb07-eea58702c597",
   "metadata": {},
   "outputs": [],
   "source": [
    "#  File Handling:\n",
    "# File is named location on disk to store related information.\n",
    "# It is used to permanently store data in a non-volatile memory(e.g, HardisK).\n",
    "\n",
    "# In Python, a file operation takes palce in the following order:\n",
    "\n",
    "# 1.) Open a file\n",
    "# 2.) Read or write(perform operation)\n",
    "# 3.) close the file\n"
   ]
  },
  {
   "cell_type": "code",
   "execution_count": 11,
   "id": "2afaf180-ba7f-44d6-ab81-59944dcc301f",
   "metadata": {},
   "outputs": [],
   "source": [
    "f= open(\"file.csv\", 'r')\n",
    "# print(f.readlines())\n",
    "# print(f.readlines())\n",
    "# print(f.readlines())\n",
    "# f.close()\n",
    "\n",
    "for line in f:\n",
    "    print(line)\n",
    "    \n",
    "f.close()\n"
   ]
  },
  {
   "cell_type": "code",
   "execution_count": 12,
   "id": "693b66a7-45d5-4f0a-9a87-88e6186db981",
   "metadata": {},
   "outputs": [],
   "source": [
    "# import pandas as pd\n",
    "# file=pd.read_csv('file.csv')\n",
    "# print(file)"
   ]
  },
  {
   "cell_type": "code",
   "execution_count": 14,
   "id": "ebf88302-fc25-499e-a729-a4780fe8cc0b",
   "metadata": {},
   "outputs": [
    {
     "name": "stdout",
     "output_type": "stream",
     "text": [
      "\n",
      "\n"
     ]
    }
   ],
   "source": [
    "with open('file.csv') as f:\n",
    "    print(f.read(10))\n",
    "    print(f.read(10))\n"
   ]
  },
  {
   "cell_type": "code",
   "execution_count": null,
   "id": "db5ffc1f-57d4-4b35-b84f-f374ae3ac46a",
   "metadata": {},
   "outputs": [],
   "source": []
  }
 ],
 "metadata": {
  "kernelspec": {
   "display_name": "Python 3 (ipykernel)",
   "language": "python",
   "name": "python3"
  },
  "language_info": {
   "codemirror_mode": {
    "name": "ipython",
    "version": 3
   },
   "file_extension": ".py",
   "mimetype": "text/x-python",
   "name": "python",
   "nbconvert_exporter": "python",
   "pygments_lexer": "ipython3",
   "version": "3.12.6"
  }
 },
 "nbformat": 4,
 "nbformat_minor": 5
}
