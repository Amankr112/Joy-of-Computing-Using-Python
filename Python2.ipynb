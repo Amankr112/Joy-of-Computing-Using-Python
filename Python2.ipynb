{
 "cells": [
  {
   "cell_type": "code",
   "execution_count": 2,
   "id": "d0deabc1-9c05-41ca-8eb4-8d5d9f8ceecc",
   "metadata": {},
   "outputs": [
    {
     "name": "stdout",
     "output_type": "stream",
     "text": [
      " Aman\n"
     ]
    },
    {
     "name": "stdout",
     "output_type": "stream",
     "text": [
      "Name: Aman\n"
     ]
    },
    {
     "name": "stdout",
     "output_type": "stream",
     "text": [
      "Enter a: 34\n",
      "Enter b: 2\n"
     ]
    },
    {
     "name": "stdout",
     "output_type": "stream",
     "text": [
      "68\n"
     ]
    }
   ],
   "source": [
    "# User input and output\n",
    "name=input()\n",
    "print('Name:', name)\n",
    "\n",
    "a=int(input('Enter a:'))\n",
    "b=int(input('Enter b:'))\n",
    "\n",
    "c=a*b\n",
    "print(c)"
   ]
  },
  {
   "cell_type": "code",
   "execution_count": 5,
   "id": "3ec59ad4-e4bb-47c6-9d3f-86096d9f571c",
   "metadata": {},
   "outputs": [
    {
     "name": "stdout",
     "output_type": "stream",
     "text": [
      "Enter marks of English: 92\n",
      "Enter marks of Maths: 100\n",
      "Enter marks of Science: 96\n"
     ]
    },
    {
     "name": "stdout",
     "output_type": "stream",
     "text": [
      "Average marks pf three subjects is: 96.0\n"
     ]
    }
   ],
   "source": [
    "# Program to take marks of a user in 3 subject and print average of them.\n",
    "English=int(input('Enter marks of English:'))\n",
    "Maths=int(input('Enter marks of Maths:'))\n",
    "Science=int(input('Enter marks of Science:'))\n",
    "avg=(English+Maths+Science)/3\n",
    "print(\"Average marks of three subjects is:\", avg)"
   ]
  },
  {
   "cell_type": "code",
   "execution_count": 6,
   "id": "c858b90a-0ec7-4627-8e9c-fea6ed7cd4ac",
   "metadata": {},
   "outputs": [
    {
     "name": "stdout",
     "output_type": "stream",
     "text": [
      "You can vote\n"
     ]
    }
   ],
   "source": [
    "# Conditional Statements : If, else, elif\n",
    "\n",
    "age=23\n",
    "if(age>18):\n",
    "    print(\"You can vote\")\n"
   ]
  },
  {
   "cell_type": "code",
   "execution_count": 8,
   "id": "b0f7a9de-8b21-42de-85b2-5e458cb8ec07",
   "metadata": {},
   "outputs": [
    {
     "name": "stdout",
     "output_type": "stream",
     "text": [
      "Enter number -98\n"
     ]
    },
    {
     "name": "stdout",
     "output_type": "stream",
     "text": [
      "Negative number\n"
     ]
    }
   ],
   "source": [
    "num=int(input('Enter number'))\n",
    "if num>0:\n",
    "    print('Positive number')\n",
    "elif num==0:\n",
    "    print(\"Zero\")\n",
    "else:\n",
    "    print('Negative number')"
   ]
  },
  {
   "cell_type": "code",
   "execution_count": 11,
   "id": "4479ea0b-fe5c-4bfc-91ef-16bcb0b1b835",
   "metadata": {},
   "outputs": [
    {
     "name": "stdout",
     "output_type": "stream",
     "text": [
      "range(0, 10)\n"
     ]
    }
   ],
   "source": [
    "# Range function: we can generate a sequence of numbers using range() function. range(10) will generate numbers from 0 to 9.\n",
    "a=range(10)\n",
    "print(a)"
   ]
  },
  {
   "cell_type": "code",
   "execution_count": 12,
   "id": "50d859b7-6aaa-42bf-b001-631165cfed74",
   "metadata": {},
   "outputs": [
    {
     "name": "stdout",
     "output_type": "stream",
     "text": [
      "[0, 1, 2, 3, 4, 5, 6, 7, 8, 9]\n"
     ]
    }
   ],
   "source": [
    "a=list(range(10))\n",
    "print(a)"
   ]
  },
  {
   "cell_type": "code",
   "execution_count": 13,
   "id": "bbf8fbdb-f636-4706-89fc-0affbb27e5ca",
   "metadata": {},
   "outputs": [
    {
     "name": "stdout",
     "output_type": "stream",
     "text": [
      "[5, 6, 7, 8, 9, 10]\n"
     ]
    }
   ],
   "source": [
    "a=list(range(5,11))\n",
    "print(a)"
   ]
  },
  {
   "cell_type": "code",
   "execution_count": 14,
   "id": "391eafd9-1d12-4e53-b734-614fccc9d216",
   "metadata": {},
   "outputs": [
    {
     "name": "stdout",
     "output_type": "stream",
     "text": [
      "[5, 7, 9]\n"
     ]
    }
   ],
   "source": [
    "a=list(range(5, 11, 2))\n",
    "print(a)\n",
    "       "
   ]
  },
  {
   "cell_type": "code",
   "execution_count": 19,
   "id": "cc608220-0b2b-4b54-9d1b-0ccee627e109",
   "metadata": {},
   "outputs": [
    {
     "name": "stdout",
     "output_type": "stream",
     "text": [
      "0,2,4,6,8,10,12,14,16,18,"
     ]
    }
   ],
   "source": [
    "# LOOPS:\n",
    "for x in range(10):\n",
    "    print(x*2)\n",
    "    #print(x*2, end=\",\")  -> to print in single line"
   ]
  },
  {
   "cell_type": "code",
   "execution_count": 24,
   "id": "effdb48d-7a69-4ed5-907a-5d15234cc0c1",
   "metadata": {},
   "outputs": [
    {
     "name": "stdout",
     "output_type": "stream",
     "text": [
      "AmanAman\n",
      "vishalvishal\n",
      "PiyushPiyush\n"
     ]
    }
   ],
   "source": [
    "a=['Aman', 'vishal', 'Piyush']\n",
    "for name in a:\n",
    "    #print(a)\n",
    "    print(name*2)\n",
    "    #print(name*2, end=',')"
   ]
  },
  {
   "cell_type": "code",
   "execution_count": 26,
   "id": "eb932898-aedf-4021-8e59-85e58cd671ee",
   "metadata": {},
   "outputs": [
    {
     "name": "stdout",
     "output_type": "stream",
     "text": [
      "5\n",
      "4\n",
      "3\n",
      "2\n",
      "1\n",
      "0\n"
     ]
    }
   ],
   "source": [
    "# While Loop: This loop in python is used to iterate over a block of code as long as the test condition is true.\n",
    "\n",
    "n=5\n",
    "while n>=0:\n",
    "    print(n)\n",
    "    n-=1"
   ]
  },
  {
   "cell_type": "code",
   "execution_count": 27,
   "id": "60cf8bd8-0486-4ef2-9276-896bb5dcd950",
   "metadata": {},
   "outputs": [
    {
     "name": "stdout",
     "output_type": "stream",
     "text": [
      "0\n",
      "1\n",
      "2\n",
      "3\n",
      "4\n",
      "5\n",
      "6\n"
     ]
    }
   ],
   "source": [
    "# Break and Continue:\n",
    "# break is used to get out from the loop.\n",
    "for i in range(10):\n",
    "    if i>6:\n",
    "        break\n",
    "    print(i)    \n",
    "    "
   ]
  },
  {
   "cell_type": "code",
   "execution_count": 29,
   "id": "b5b5c178-c994-447b-a66c-c36b3e0ff86a",
   "metadata": {},
   "outputs": [
    {
     "name": "stdout",
     "output_type": "stream",
     "text": [
      "0\n",
      "1\n",
      "2\n",
      "3\n",
      "4\n",
      "5\n",
      "7\n",
      "8\n",
      "9\n"
     ]
    }
   ],
   "source": [
    "# Continue is used to skip current iteration.\n",
    "for i in range(10):\n",
    "    if i==6:\n",
    "        continue\n",
    "    print(i)"
   ]
  },
  {
   "cell_type": "code",
   "execution_count": 35,
   "id": "d2713507-3362-4490-a256-3a4f626fd465",
   "metadata": {},
   "outputs": [
    {
     "name": "stdout",
     "output_type": "stream",
     "text": [
      "a\n",
      "g\n",
      "o\n",
      "n\n"
     ]
    }
   ],
   "source": [
    "# Strings: A string is a sequence of characters\n",
    "# -> Triple qoutes is used to print multiline statements.\n",
    "fruit= \"Mango\"\n",
    "print(fruit[1])\n",
    "print(fruit[3])\n",
    "print(fruit[-1])\n",
    "\n",
    "my_char=fruit[2];\n",
    "print(my_char)"
   ]
  },
  {
   "cell_type": "code",
   "execution_count": 38,
   "id": "908900aa-fb96-4d4d-9f54-6e2243ed9266",
   "metadata": {},
   "outputs": [
    {
     "data": {
      "text/plain": [
       "'bcdef'"
      ]
     },
     "execution_count": 38,
     "metadata": {},
     "output_type": "execute_result"
    }
   ],
   "source": [
    "# Accessing characters in a string (Slicing)\n",
    "s = \"abcdefgh\"  # if you want to print bcdef.\n",
    "s[1:6]          # 6 because it is exclusive.\n"
   ]
  },
  {
   "cell_type": "code",
   "execution_count": 39,
   "id": "d45a8001-2c3a-407a-99f2-2df1c743d585",
   "metadata": {},
   "outputs": [
    {
     "data": {
      "text/plain": [
       "'cde'"
      ]
     },
     "execution_count": 39,
     "metadata": {},
     "output_type": "execute_result"
    }
   ],
   "source": [
    "s[2:5]"
   ]
  },
  {
   "cell_type": "code",
   "execution_count": 40,
   "id": "46aa0ea9-73ae-4733-8b88-5d4f96f9bde6",
   "metadata": {},
   "outputs": [
    {
     "data": {
      "text/plain": [
       "'abcdef'"
      ]
     },
     "execution_count": 40,
     "metadata": {},
     "output_type": "execute_result"
    }
   ],
   "source": [
    "s[:6]"
   ]
  },
  {
   "cell_type": "code",
   "execution_count": 41,
   "id": "1af80d0b-7a2f-4de4-a8e1-17aea58e85df",
   "metadata": {},
   "outputs": [
    {
     "data": {
      "text/plain": [
       "'ace'"
      ]
     },
     "execution_count": 41,
     "metadata": {},
     "output_type": "execute_result"
    }
   ],
   "source": [
    "s[0:6:2]  # [starting index: last index: steps] \n",
    "# 2 is repersenting that it will print by leaving 2 characters."
   ]
  },
  {
   "cell_type": "code",
   "execution_count": 42,
   "id": "fc31b417-4d7c-42e5-85d7-aeda398602e6",
   "metadata": {},
   "outputs": [
    {
     "data": {
      "text/plain": [
       "'abcdefgh'"
      ]
     },
     "execution_count": 42,
     "metadata": {},
     "output_type": "execute_result"
    }
   ],
   "source": [
    "s  # strings are immutable."
   ]
  },
  {
   "cell_type": "code",
   "execution_count": 43,
   "id": "a3a26db0-b1fb-4ef9-9faa-e7a8f1616d48",
   "metadata": {},
   "outputs": [
    {
     "data": {
      "text/plain": [
       "'hgfedcba'"
      ]
     },
     "execution_count": 43,
     "metadata": {},
     "output_type": "execute_result"
    }
   ],
   "source": [
    "s[::-1]    #reverse of string."
   ]
  },
  {
   "cell_type": "code",
   "execution_count": 46,
   "id": "0e176b6c-1b0b-4795-b468-2d3cdfa4deef",
   "metadata": {},
   "outputs": [
    {
     "data": {
      "text/plain": [
       "''"
      ]
     },
     "execution_count": 46,
     "metadata": {},
     "output_type": "execute_result"
    }
   ],
   "source": [
    "s[0:5:-1]  #you are going from left to right but your direction is from right to left, so it will not print anything.\n",
    "s[-1:0:1]"
   ]
  },
  {
   "cell_type": "code",
   "execution_count": 45,
   "id": "51a4cf12-3614-4a76-8b71-246a5e1b83f2",
   "metadata": {},
   "outputs": [
    {
     "data": {
      "text/plain": [
       "'hgfedcb'"
      ]
     },
     "execution_count": 45,
     "metadata": {},
     "output_type": "execute_result"
    }
   ],
   "source": [
    "s[-1:0:-1]  # a will not print as it is exclusive"
   ]
  },
  {
   "cell_type": "code",
   "execution_count": 49,
   "id": "a9c7b883-a054-49f5-96a2-4cd0e7db02e3",
   "metadata": {},
   "outputs": [
    {
     "name": "stdout",
     "output_type": "stream",
     "text": [
      "pqrpqrpqr\n"
     ]
    }
   ],
   "source": [
    "a=\"pqr\"\n",
    "b='xyz'\n",
    "# c=a+b\n",
    "c=a*3\n",
    "print(c)"
   ]
  },
  {
   "cell_type": "code",
   "execution_count": 50,
   "id": "c2e032ad-c92a-4baf-a70c-5f29d865dc9b",
   "metadata": {},
   "outputs": [
    {
     "name": "stdout",
     "output_type": "stream",
     "text": [
      "aa\n",
      "bb\n",
      "cc\n"
     ]
    }
   ],
   "source": [
    "# For loop with Strings:\n",
    "a=\"abc\"\n",
    "for my_char in a:\n",
    "    print(my_char*2)"
   ]
  },
  {
   "cell_type": "code",
   "execution_count": 55,
   "id": "2aca8637-940d-42ba-97c8-ba0c461ec310",
   "metadata": {},
   "outputs": [
    {
     "name": "stdout",
     "output_type": "stream",
     "text": [
      "True\n",
      "False\n",
      "True\n",
      "False\n",
      "abcd\n",
      "ABCD\n"
     ]
    }
   ],
   "source": [
    "# Python string methods:\n",
    "password=\"abcd\"\n",
    "print(password.isalpha())\n",
    "print(password.isdigit())\n",
    "print(password.islower())\n",
    "print(password.isupper())\n",
    "print(password.lower())\n",
    "print(password.upper())\n"
   ]
  },
  {
   "cell_type": "code",
   "execution_count": 56,
   "id": "3ee444ba-71df-4784-81e2-24728ef31b74",
   "metadata": {},
   "outputs": [
    {
     "name": "stdout",
     "output_type": "stream",
     "text": [
      "False\n",
      "False\n",
      "False\n",
      "True\n",
      "abcd%$\n",
      "ABCD%$\n"
     ]
    }
   ],
   "source": [
    "password=\"ABCD%$\"\n",
    "print(password.isalpha())\n",
    "print(password.isdigit())\n",
    "print(password.islower())\n",
    "print(password.isupper())\n",
    "print(password.lower())\n",
    "print(password.upper())\n"
   ]
  },
  {
   "cell_type": "code",
   "execution_count": 57,
   "id": "2ccaccb6-0ead-43aa-98f5-e14adb52364e",
   "metadata": {},
   "outputs": [
    {
     "data": {
      "text/plain": [
       "'abcd  '"
      ]
     },
     "execution_count": 57,
     "metadata": {},
     "output_type": "execute_result"
    }
   ],
   "source": [
    "# lstrip and rstrip\n",
    "s='  abcd  '\n",
    "s.lstrip()   # it will remove left side spaces"
   ]
  },
  {
   "cell_type": "code",
   "execution_count": 58,
   "id": "781f5ead-7f81-4a98-9fde-c4966a3b7762",
   "metadata": {},
   "outputs": [
    {
     "data": {
      "text/plain": [
       "'  abcd'"
      ]
     },
     "execution_count": 58,
     "metadata": {},
     "output_type": "execute_result"
    }
   ],
   "source": [
    "s.rstrip()   # it will remove right side spaces"
   ]
  },
  {
   "cell_type": "code",
   "execution_count": 61,
   "id": "964ce552-6446-4c50-988a-e15fbb715a84",
   "metadata": {},
   "outputs": [
    {
     "name": "stdout",
     "output_type": "stream",
     "text": [
      "[1, 'Aman', 'chatra']\n"
     ]
    }
   ],
   "source": [
    "# List: A list is created by palcing all items/elements inside the square bracket[] separated by commas.\n",
    "    # It my have any number if items and they may be different data types(int, float, string..)\n",
    "my_list=[1,'Aman','chatra']\n",
    "print(my_list)"
   ]
  },
  {
   "cell_type": "code",
   "execution_count": 64,
   "id": "f3c2b0f8-5d9b-4263-8057-e20ae6f6780b",
   "metadata": {},
   "outputs": [
    {
     "name": "stdout",
     "output_type": "stream",
     "text": [
      "Apple\n",
      "Mango\n",
      "Banana\n"
     ]
    }
   ],
   "source": [
    "fruits=['Apple', 'Banana', 'Mango']\n",
    "print(fruits[0])\n",
    "print(fruits[2])\n",
    "\n",
    "print(fruits[-2])\n"
   ]
  },
  {
   "cell_type": "code",
   "execution_count": 68,
   "id": "3c0a2617-6c0f-4857-b00f-12397c07d2e8",
   "metadata": {},
   "outputs": [
    {
     "data": {
      "text/plain": [
       "[1, 2, 3, 4, 5]"
      ]
     },
     "execution_count": 68,
     "metadata": {},
     "output_type": "execute_result"
    }
   ],
   "source": [
    "# Slicing in list:\n",
    "x=[1,2,3,4,5,6,7,8]\n",
    "x[0:5]"
   ]
  },
  {
   "cell_type": "code",
   "execution_count": 69,
   "id": "4ff145d3-5ae6-4e0c-9f38-451e0f2cac76",
   "metadata": {},
   "outputs": [
    {
     "data": {
      "text/plain": [
       "[1, 3, 5]"
      ]
     },
     "execution_count": 69,
     "metadata": {},
     "output_type": "execute_result"
    }
   ],
   "source": [
    "x[0:5:2]"
   ]
  },
  {
   "cell_type": "code",
   "execution_count": 72,
   "id": "78c5b134-6fe4-444c-a141-8467b7a46d0f",
   "metadata": {},
   "outputs": [
    {
     "data": {
      "text/plain": [
       "[8, 7, 6, 5, 4, 3, 2, 1]"
      ]
     },
     "execution_count": 72,
     "metadata": {},
     "output_type": "execute_result"
    }
   ],
   "source": [
    "x[::-1]"
   ]
  },
  {
   "cell_type": "code",
   "execution_count": 76,
   "id": "33fb136e-9366-4f13-889a-9d7cf776c7b7",
   "metadata": {},
   "outputs": [
    {
     "data": {
      "text/plain": [
       "[8, 6, 4, 2]"
      ]
     },
     "execution_count": 76,
     "metadata": {},
     "output_type": "execute_result"
    }
   ],
   "source": [
    "x[-1:0:-2]"
   ]
  },
  {
   "cell_type": "code",
   "execution_count": 78,
   "id": "d7f51d50-4f5f-47d2-b44a-28565a0f90be",
   "metadata": {},
   "outputs": [
    {
     "name": "stdout",
     "output_type": "stream",
     "text": [
      "['Grapes', 'Banana', 'Mango']\n"
     ]
    }
   ],
   "source": [
    "# Lists are muttable(ie. can be changed either update or delete) \n",
    "fruits=['Apple', 'Banana', 'Mango']\n",
    "fruits[0]='Grapes'\n",
    "print(fruits)"
   ]
  },
  {
   "cell_type": "code",
   "execution_count": 79,
   "id": "333db765-6484-41a7-85fd-591346fa5971",
   "metadata": {},
   "outputs": [
    {
     "name": "stdout",
     "output_type": "stream",
     "text": [
      "['Grapes', 'Mango']\n"
     ]
    }
   ],
   "source": [
    "del fruits[1]\n",
    "print(fruits)\n",
    "# del fruits  (it will delete the list )"
   ]
  },
  {
   "cell_type": "code",
   "execution_count": 81,
   "id": "f2e730e3-0cd8-4751-805f-d13316b0c15a",
   "metadata": {},
   "outputs": [
    {
     "name": "stdout",
     "output_type": "stream",
     "text": [
      "[0, 1, 2, 3, 4, 5, 6, 7, 8, 9]\n"
     ]
    }
   ],
   "source": [
    "# List Comprehension:  new_list=[expression    for item in list     if condition]\n",
    "# a= [0,1,2,3,4,5,6,7,8,9]\n",
    "\n",
    "a=[x for x in range(10)]\n",
    "print(a)\n"
   ]
  },
  {
   "cell_type": "code",
   "execution_count": 82,
   "id": "516ceabf-d76c-4650-a056-bc724c3d57d5",
   "metadata": {},
   "outputs": [
    {
     "name": "stdout",
     "output_type": "stream",
     "text": [
      "[0, 2, 4, 6, 8]\n"
     ]
    }
   ],
   "source": [
    "# for even numbers\n",
    "a=[x for x in range(10) if x%2==0]\n",
    "print(a)"
   ]
  },
  {
   "cell_type": "code",
   "execution_count": 85,
   "id": "2ce264b3-ce13-4ee1-a6fb-69a436e98b1e",
   "metadata": {},
   "outputs": [
    {
     "name": "stdout",
     "output_type": "stream",
     "text": [
      "[1, 3, 9, 27, 81, 243, 729, 2187, 6561, 19683]\n"
     ]
    }
   ],
   "source": [
    "# cube of numbers\n",
    "a=[3**x for x in range(10)]\n",
    "print(a)"
   ]
  },
  {
   "cell_type": "code",
   "execution_count": 93,
   "id": "4fc543c5-c612-4f1e-88cc-835c323bad87",
   "metadata": {},
   "outputs": [
    {
     "name": "stdout",
     "output_type": "stream",
     "text": [
      "[1, 2, 3]\n",
      "[1, 2, 3, 4]\n"
     ]
    }
   ],
   "source": [
    "# list methods: (we use dot)\n",
    "# append, \n",
    "# insert,\n",
    "# sort,\n",
    "# pop, \n",
    "# clear,\n",
    "# reverse,\n",
    "# index,\n",
    "# count.\n",
    "a=[1,2,3]\n",
    "print(a)\n",
    "a.append(4)   # it will add in list\n",
    "print(a)"
   ]
  },
  {
   "cell_type": "code",
   "execution_count": 94,
   "id": "cc6037fe-db5f-4d45-9f3d-3784e7dcb929",
   "metadata": {},
   "outputs": [
    {
     "name": "stdout",
     "output_type": "stream",
     "text": [
      "[1, 'Aman', 2, 3, 4]\n"
     ]
    }
   ],
   "source": [
    "a.insert(1, 'Aman')  # 1 is index and Aman is inserted number at index 1.\n",
    "print(a)"
   ]
  },
  {
   "cell_type": "code",
   "execution_count": 95,
   "id": "da8f4e8f-ee38-4972-b189-e2797ae22fd1",
   "metadata": {},
   "outputs": [
    {
     "name": "stdout",
     "output_type": "stream",
     "text": [
      "[10, 12, 16, 23, 45, 56, 96]\n"
     ]
    }
   ],
   "source": [
    "# Sort:\n",
    "a=[23, 12, 45, 10, 56, 16, 96]\n",
    "a.sort()\n",
    "print(a)"
   ]
  },
  {
   "cell_type": "code",
   "execution_count": 96,
   "id": "f2262f91-9a59-4e87-979e-e3c22c2576cf",
   "metadata": {},
   "outputs": [
    {
     "name": "stdout",
     "output_type": "stream",
     "text": [
      "[12, 16, 23, 45, 56, 96]\n"
     ]
    }
   ],
   "source": [
    "a.pop(0)    # First element will be deleted.\n",
    "print(a)"
   ]
  },
  {
   "cell_type": "code",
   "execution_count": 97,
   "id": "06af1b5f-90f5-4281-9e16-fc3189b7497e",
   "metadata": {},
   "outputs": [
    {
     "name": "stdout",
     "output_type": "stream",
     "text": [
      "[]\n"
     ]
    }
   ],
   "source": [
    "a.clear()  # it will clear the list\n",
    "print(a)"
   ]
  },
  {
   "cell_type": "code",
   "execution_count": 98,
   "id": "83840451-e78a-4e63-9544-990c59c0dfed",
   "metadata": {},
   "outputs": [
    {
     "name": "stdout",
     "output_type": "stream",
     "text": [
      "['Mango', 'Banana', 'Apple']\n"
     ]
    }
   ],
   "source": [
    "fruits=['Apple', 'Banana', 'Mango']\n",
    "fruits.reverse()   # it will reverse the list\n",
    "print(fruits)"
   ]
  },
  {
   "cell_type": "code",
   "execution_count": 99,
   "id": "92f80012-ba24-460d-b9c6-84b78577b979",
   "metadata": {},
   "outputs": [
    {
     "name": "stdout",
     "output_type": "stream",
     "text": [
      "2\n"
     ]
    }
   ],
   "source": [
    "print(fruits.index('Apple'))"
   ]
  },
  {
   "cell_type": "code",
   "execution_count": 100,
   "id": "4eb835c2-c43b-45d4-9c55-482fa940798d",
   "metadata": {},
   "outputs": [
    {
     "name": "stdout",
     "output_type": "stream",
     "text": [
      "1\n"
     ]
    }
   ],
   "source": [
    "print(fruits.count('Apple'))   #kitni baar present hai list me"
   ]
  },
  {
   "cell_type": "code",
   "execution_count": 101,
   "id": "098508b7-8f8f-4d65-a6c3-baa044a9ee20",
   "metadata": {},
   "outputs": [
    {
     "name": "stdout",
     "output_type": "stream",
     "text": [
      "2\n"
     ]
    }
   ],
   "source": [
    "fruits=['Apple', 'Banana', 'Mango', 'Apple']\n",
    "print(fruits.count('Apple')) "
   ]
  },
  {
   "cell_type": "code",
   "execution_count": 102,
   "id": "8a275652-9c1d-497e-ba7c-0d5dcd7e81d9",
   "metadata": {},
   "outputs": [
    {
     "name": "stdout",
     "output_type": "stream",
     "text": [
      "7\n"
     ]
    }
   ],
   "source": [
    "# List functions:\n",
    "# len(list)\n",
    "# max(list)\n",
    "# min(list)\n",
    "# sum(list)\n",
    "# list(seq)\n",
    "\n",
    "a=[23, 12, 45, 10, 56, 16, 96]\n",
    "print(len(a))\n"
   ]
  },
  {
   "cell_type": "code",
   "execution_count": 103,
   "id": "3862c9db-2ee8-4d06-9ae4-2841a53d6d6b",
   "metadata": {},
   "outputs": [
    {
     "name": "stdout",
     "output_type": "stream",
     "text": [
      "96\n"
     ]
    }
   ],
   "source": [
    "print(max(a))"
   ]
  },
  {
   "cell_type": "code",
   "execution_count": 104,
   "id": "8ba26846-8b13-41c9-84e4-9b32dbf24a97",
   "metadata": {},
   "outputs": [
    {
     "name": "stdout",
     "output_type": "stream",
     "text": [
      "10\n"
     ]
    }
   ],
   "source": [
    "print(min(a))"
   ]
  },
  {
   "cell_type": "code",
   "execution_count": 108,
   "id": "fb83b4b9-27eb-4415-a074-baa98f533a1d",
   "metadata": {},
   "outputs": [
    {
     "name": "stdout",
     "output_type": "stream",
     "text": [
      "258\n"
     ]
    }
   ],
   "source": [
    "print(sum(a))"
   ]
  },
  {
   "cell_type": "code",
   "execution_count": 112,
   "id": "ab3c7843-b648-4221-aa09-285775fb107c",
   "metadata": {},
   "outputs": [
    {
     "name": "stdout",
     "output_type": "stream",
     "text": [
      "['A', 'm', 'a', 'n']\n"
     ]
    }
   ],
   "source": [
    "s='Aman'\n",
    "print(list(s))"
   ]
  },
  {
   "cell_type": "code",
   "execution_count": 114,
   "id": "185d0b85-b22d-4c1a-b387-ae1c6ae010d8",
   "metadata": {},
   "outputs": [
    {
     "name": "stdout",
     "output_type": "stream",
     "text": [
      "maruti\n",
      "venue\n",
      "bmw\n",
      "maybac\n"
     ]
    }
   ],
   "source": [
    "# for loop with lists:\n",
    "for car in ['maruti', 'venue', 'bmw', 'maybac']:\n",
    "    print(car)"
   ]
  },
  {
   "cell_type": "code",
   "execution_count": 115,
   "id": "641a50e6-3915-4e73-bd26-50b90a097d61",
   "metadata": {},
   "outputs": [
    {
     "name": "stdout",
     "output_type": "stream",
     "text": [
      "46 24 90 20 112 32 192 "
     ]
    }
   ],
   "source": [
    "a=[23, 12, 45, 10, 56, 16, 96]\n",
    "for x in a:\n",
    "    print(x*2, end=\" \")"
   ]
  },
  {
   "cell_type": "code",
   "execution_count": 116,
   "id": "2ffa6833-928f-4788-b0ce-2083be1517f1",
   "metadata": {},
   "outputs": [
    {
     "name": "stdout",
     "output_type": "stream",
     "text": [
      "(1, 2, 3)\n"
     ]
    }
   ],
   "source": [
    "# Tuples: A tuple is immutable (i.e the elements of tuple cannot be changed once it has been assigned.\n",
    "my_tuple=(1,2,3)\n",
    "print(my_tuple)"
   ]
  },
  {
   "cell_type": "code",
   "execution_count": 117,
   "id": "664d6aef-a95b-42a0-91de-5349943f0590",
   "metadata": {},
   "outputs": [
    {
     "name": "stdout",
     "output_type": "stream",
     "text": [
      "(1, 'Aman', 3.122)\n"
     ]
    }
   ],
   "source": [
    "my_tuple=(1,\"Aman\",3.122)\n",
    "print(my_tuple)"
   ]
  },
  {
   "cell_type": "code",
   "execution_count": 119,
   "id": "4d7b9fb5-05e4-47e3-9111-b3d6ea390a95",
   "metadata": {},
   "outputs": [],
   "source": [
    "# s= \"AMAN\"    string is immutable\n",
    "# s[0]='B'\n",
    "# print(s)"
   ]
  },
  {
   "cell_type": "code",
   "execution_count": 120,
   "id": "7aa278cd-105d-4be4-befb-a5458ab8162d",
   "metadata": {},
   "outputs": [
    {
     "name": "stdout",
     "output_type": "stream",
     "text": [
      "['B', 'M', 'A', 'N']\n"
     ]
    }
   ],
   "source": [
    "s= ['A', 'M', 'A', 'N']    # lists are mutable\n",
    "s[0]='B'\n",
    "print(s)"
   ]
  },
  {
   "cell_type": "code",
   "execution_count": 122,
   "id": "33fd68d3-140c-4f37-9d36-3bcd55a4e733",
   "metadata": {},
   "outputs": [],
   "source": [
    "# s= ('A', 'M', 'A', 'N')    # tuples are immutable\n",
    "# s[0]='B'\n",
    "# print(s)"
   ]
  },
  {
   "cell_type": "code",
   "execution_count": 123,
   "id": "ac9ab871-6388-4b38-ac4d-f00978c9c9cb",
   "metadata": {},
   "outputs": [],
   "source": [
    "# Tuple Operations: same as list\n",
    "# 1.) Positive and Negative Indexing\n",
    "# 2.) Slicing\n",
    "# 3.) Iterating through a tuple\n",
    "\n",
    "# Tuple functions: same as list\n",
    "# len(Tuple)\n",
    "# max(Tuple)\n",
    "# min(Tuple)\n",
    "# sum(Tuple)\n",
    "# Tuple(seq)\n"
   ]
  },
  {
   "cell_type": "code",
   "execution_count": 124,
   "id": "8aff795e-4386-48fe-9a15-a22ec78f031f",
   "metadata": {},
   "outputs": [
    {
     "name": "stdout",
     "output_type": "stream",
     "text": [
      "{1, 2, 3, 4}\n"
     ]
    }
   ],
   "source": [
    "# SETs: Duplicate elements are not allowed.\n",
    "a={1,2,3,4,2,3,1}\n",
    "print(a)"
   ]
  },
  {
   "cell_type": "code",
   "execution_count": 126,
   "id": "51728ce1-96fe-4f83-bad0-d0307755caf1",
   "metadata": {},
   "outputs": [],
   "source": [
    "# print(a[0])   It will give error as indexing is not there in list. that's why we use dictionary.\n"
   ]
  },
  {
   "cell_type": "code",
   "execution_count": 127,
   "id": "d50f58af-6743-4049-929c-2192a238cd23",
   "metadata": {},
   "outputs": [
    {
     "name": "stdout",
     "output_type": "stream",
     "text": [
      "2\n",
      "4\n",
      "6\n",
      "8\n"
     ]
    }
   ],
   "source": [
    "# WE can use for loop:\n",
    "for element in a:\n",
    "    print(element*2)"
   ]
  },
  {
   "cell_type": "code",
   "execution_count": 128,
   "id": "57e6b3b7-e67c-493f-9a00-0ae48a6f68e5",
   "metadata": {},
   "outputs": [
    {
     "name": "stdout",
     "output_type": "stream",
     "text": [
      "{'AMAN': 96, 'anish': 98, 'Bhakta': 97}\n"
     ]
    }
   ],
   "source": [
    "# Dictonary: It is an unordered collection of items. while other compound data types have only value as element, a dictonary has- [a key: value pair].\n",
    "marks= {'AMAN': 96, 'anish': 98, 'Bhakta': 97}\n",
    "print(marks)\n",
    "\n"
   ]
  },
  {
   "cell_type": "code",
   "execution_count": 130,
   "id": "2a5e90df-d2d9-4588-a8f8-7a094d22b268",
   "metadata": {},
   "outputs": [
    {
     "name": "stdout",
     "output_type": "stream",
     "text": [
      "96\n"
     ]
    }
   ],
   "source": [
    "print(marks['AMAN'])"
   ]
  },
  {
   "cell_type": "code",
   "execution_count": 132,
   "id": "6eb98608-2210-417b-b911-5c83b6f18751",
   "metadata": {},
   "outputs": [
    {
     "name": "stdout",
     "output_type": "stream",
     "text": [
      "45\n"
     ]
    }
   ],
   "source": [
    "marks= {'AMAN': 96, 'anish': 98, 'Bhakta': 97, 23:45, 12: 98}\n",
    "print(marks[23])"
   ]
  },
  {
   "cell_type": "code",
   "execution_count": 133,
   "id": "09be4a47-62bc-4d9b-a30c-d7fbe35459a5",
   "metadata": {},
   "outputs": [
    {
     "name": "stdout",
     "output_type": "stream",
     "text": [
      "1\n",
      "9\n",
      "25\n",
      "49\n",
      "81\n"
     ]
    }
   ],
   "source": [
    "# Iterating through dictonary:\n",
    "squares={1:1, 3:9, 5:25, 7:49, 9:81}\n",
    "for i in squares:\n",
    "    print(squares[i])"
   ]
  },
  {
   "cell_type": "code",
   "execution_count": 141,
   "id": "834627eb-6429-4b6b-9aaf-9bf7c4e8a8b0",
   "metadata": {},
   "outputs": [
    {
     "name": "stdout",
     "output_type": "stream",
     "text": [
      "1 1\n",
      "3 9\n",
      "5 25\n",
      "7 49\n",
      "9 81\n"
     ]
    }
   ],
   "source": [
    "squares={1:1, 3:9, 5:25, 7:49, 9:81}\n",
    "for i in squares:\n",
    "    print(i, squares[i])\n"
   ]
  },
  {
   "cell_type": "code",
   "execution_count": 143,
   "id": "99b1c39a-5cea-4b28-9eba-00312ae07bc3",
   "metadata": {},
   "outputs": [
    {
     "name": "stdout",
     "output_type": "stream",
     "text": [
      "{'name': 'Jack', 'age': 22}\n"
     ]
    }
   ],
   "source": [
    "# Updating Dictionary Items:\n",
    "my_dict={'name':'Jack', 'age': 26}\n",
    "my_dict['age']=22\n",
    "print(my_dict)"
   ]
  },
  {
   "cell_type": "code",
   "execution_count": 144,
   "id": "9c355d9a-af24-4849-b396-6707630b6835",
   "metadata": {},
   "outputs": [
    {
     "name": "stdout",
     "output_type": "stream",
     "text": [
      "{'AMAN': 96, 'anish': 98, 'Bhakta': 97, 'Piyush': 99}\n"
     ]
    }
   ],
   "source": [
    "marks= {'AMAN': 96, 'anish': 98, 'Bhakta': 97}\n",
    "marks['Piyush']=99\n",
    "print(marks)"
   ]
  },
  {
   "cell_type": "code",
   "execution_count": 145,
   "id": "2676d33c-44c3-4bd5-b36a-2bd0dfb19a92",
   "metadata": {},
   "outputs": [
    {
     "name": "stdout",
     "output_type": "stream",
     "text": [
      "{'AMAN': 96, 'anish': 98, 'Bhakta': 97, 'Piyush': 92}\n"
     ]
    }
   ],
   "source": [
    "marks['Piyush']=92  # updating marks\n",
    "print(marks)"
   ]
  },
  {
   "cell_type": "code",
   "execution_count": null,
   "id": "340c33b9-6790-4720-bdf8-331f651a97b4",
   "metadata": {},
   "outputs": [],
   "source": [
    "# Python Functions: It is a group of related statements that perform a specific task.\n",
    "def sum(a,b):\n",
    "    \n"
   ]
  },
  {
   "cell_type": "code",
   "execution_count": null,
   "id": "b5b5b240-4e43-48bb-9e1f-a5c7883c29c0",
   "metadata": {},
   "outputs": [],
   "source": []
  },
  {
   "cell_type": "code",
   "execution_count": null,
   "id": "c781953b-6225-43c2-bb27-8b7366038bff",
   "metadata": {},
   "outputs": [],
   "source": [
    "# Important Modules:\n",
    "# math \n",
    "# random\n",
    "# string"
   ]
  },
  {
   "cell_type": "code",
   "execution_count": 146,
   "id": "f6648fe8-090f-4ab6-ac47-3a43015e5101",
   "metadata": {},
   "outputs": [
    {
     "data": {
      "text/plain": [
       "['__doc__',\n",
       " '__loader__',\n",
       " '__name__',\n",
       " '__package__',\n",
       " '__spec__',\n",
       " 'acos',\n",
       " 'acosh',\n",
       " 'asin',\n",
       " 'asinh',\n",
       " 'atan',\n",
       " 'atan2',\n",
       " 'atanh',\n",
       " 'cbrt',\n",
       " 'ceil',\n",
       " 'comb',\n",
       " 'copysign',\n",
       " 'cos',\n",
       " 'cosh',\n",
       " 'degrees',\n",
       " 'dist',\n",
       " 'e',\n",
       " 'erf',\n",
       " 'erfc',\n",
       " 'exp',\n",
       " 'exp2',\n",
       " 'expm1',\n",
       " 'fabs',\n",
       " 'factorial',\n",
       " 'floor',\n",
       " 'fmod',\n",
       " 'frexp',\n",
       " 'fsum',\n",
       " 'gamma',\n",
       " 'gcd',\n",
       " 'hypot',\n",
       " 'inf',\n",
       " 'isclose',\n",
       " 'isfinite',\n",
       " 'isinf',\n",
       " 'isnan',\n",
       " 'isqrt',\n",
       " 'lcm',\n",
       " 'ldexp',\n",
       " 'lgamma',\n",
       " 'log',\n",
       " 'log10',\n",
       " 'log1p',\n",
       " 'log2',\n",
       " 'modf',\n",
       " 'nan',\n",
       " 'nextafter',\n",
       " 'perm',\n",
       " 'pi',\n",
       " 'pow',\n",
       " 'prod',\n",
       " 'radians',\n",
       " 'remainder',\n",
       " 'sin',\n",
       " 'sinh',\n",
       " 'sqrt',\n",
       " 'sumprod',\n",
       " 'tan',\n",
       " 'tanh',\n",
       " 'tau',\n",
       " 'trunc',\n",
       " 'ulp']"
      ]
     },
     "execution_count": 146,
     "metadata": {},
     "output_type": "execute_result"
    }
   ],
   "source": [
    "import math\n",
    "dir(math)"
   ]
  },
  {
   "cell_type": "code",
   "execution_count": 147,
   "id": "8df44ab7-fbdd-40e7-9b0d-8db279d2a081",
   "metadata": {},
   "outputs": [
    {
     "name": "stdout",
     "output_type": "stream",
     "text": [
      "3.141592653589793\n"
     ]
    }
   ],
   "source": [
    "print(math.pi)"
   ]
  },
  {
   "cell_type": "code",
   "execution_count": 148,
   "id": "943470e9-cb1d-4d5f-b90e-ef358c746774",
   "metadata": {},
   "outputs": [
    {
     "name": "stdout",
     "output_type": "stream",
     "text": [
      "3.141592653589793\n"
     ]
    }
   ],
   "source": [
    "# we can also use shortcut \n",
    "import math as m\n",
    "print(m.pi)"
   ]
  },
  {
   "cell_type": "code",
   "execution_count": 149,
   "id": "eca02950-bb71-4f04-b63b-64644b2d2446",
   "metadata": {},
   "outputs": [
    {
     "name": "stdout",
     "output_type": "stream",
     "text": [
      "-0.9999987317275395\n"
     ]
    }
   ],
   "source": [
    "print(m.cos(3.14))"
   ]
  },
  {
   "cell_type": "code",
   "execution_count": 150,
   "id": "e51c1de4-6935-4e9d-aef2-5b4e3faa90d9",
   "metadata": {},
   "outputs": [
    {
     "name": "stdout",
     "output_type": "stream",
     "text": [
      "-0.9999987317275395\n"
     ]
    }
   ],
   "source": [
    "#for importing we can also import specific things\n",
    "#  ex-\n",
    "from math import cos\n",
    "print(cos(3.14))\n"
   ]
  },
  {
   "cell_type": "code",
   "execution_count": 152,
   "id": "458d7b96-ac4e-4181-ae02-3f89404c52a3",
   "metadata": {},
   "outputs": [
    {
     "name": "stdout",
     "output_type": "stream",
     "text": [
      "-0.9999987317275395\n",
      "0.0015926529164868282\n"
     ]
    }
   ],
   "source": [
    "from math import cos, sin\n",
    "print(cos(3.14))\n",
    "print(sin(3.14))"
   ]
  },
  {
   "cell_type": "code",
   "execution_count": 154,
   "id": "daa1b108-afaa-4755-865f-6200241f84b3",
   "metadata": {},
   "outputs": [
    {
     "name": "stdout",
     "output_type": "stream",
     "text": [
      "-0.9999987317275395\n",
      "0.0015926529164868282\n",
      "3.141592653589793\n"
     ]
    }
   ],
   "source": [
    "# to use all properties we use *\n",
    "from math import *\n",
    "print(cos(3.14))\n",
    "print(sin(3.14))\n",
    "print(pi)\n"
   ]
  },
  {
   "cell_type": "code",
   "execution_count": 156,
   "id": "07d480c7-75d2-4f40-b996-e015e4e994a9",
   "metadata": {},
   "outputs": [
    {
     "name": "stdout",
     "output_type": "stream",
     "text": [
      "Good Morning , AMAN\n",
      "Good Morning , AMAN\n"
     ]
    }
   ],
   "source": [
    "# User defined functions:\n",
    "# syntax\n",
    "\n",
    "# def function_name(parameters):\n",
    "#     '''docstring'''\n",
    "#     statement(s)\n",
    "\n",
    "def greet():\n",
    "    print('Good Morning , AMAN')\n",
    "greet()    \n",
    "greet()     \n",
    "\n"
   ]
  },
  {
   "cell_type": "code",
   "execution_count": 158,
   "id": "061e6406-1eab-4f80-afe8-c260c505d7c7",
   "metadata": {},
   "outputs": [
    {
     "name": "stdout",
     "output_type": "stream",
     "text": [
      "Good Morning , Anish\n"
     ]
    }
   ],
   "source": [
    "# Calling the function\n",
    "def greet(name):\n",
    "    print('Good Morning ,', name)\n",
    "greet('Anish') "
   ]
  },
  {
   "cell_type": "code",
   "execution_count": 160,
   "id": "5c2c1626-bf3a-4685-8083-4b8c8baa1aca",
   "metadata": {},
   "outputs": [
    {
     "name": "stdout",
     "output_type": "stream",
     "text": [
      "Good Morning , 3.456\n"
     ]
    }
   ],
   "source": [
    "greet(3.456) "
   ]
  },
  {
   "cell_type": "code",
   "execution_count": 164,
   "id": "cd6891f3-396d-4b45-a74b-d5e1a444559e",
   "metadata": {},
   "outputs": [
    {
     "name": "stdout",
     "output_type": "stream",
     "text": [
      "Good Morning, Aman\n",
      "Please eat Biryani\n"
     ]
    }
   ],
   "source": [
    "def greet(name, dish):\n",
    "    print('Good Morning,', name)\n",
    "    print('Please eat', dish)\n",
    "greet('Aman', 'Biryani')"
   ]
  },
  {
   "cell_type": "code",
   "execution_count": 165,
   "id": "48538395-ebee-4215-9218-303c5787117a",
   "metadata": {},
   "outputs": [
    {
     "ename": "TypeError",
     "evalue": "greet() missing 1 required positional argument: 'dish'",
     "output_type": "error",
     "traceback": [
      "\u001b[1;31m---------------------------------------------------------------------------\u001b[0m",
      "\u001b[1;31mTypeError\u001b[0m                                 Traceback (most recent call last)",
      "Cell \u001b[1;32mIn[165], line 5\u001b[0m\n\u001b[0;32m      3\u001b[0m     \u001b[38;5;28mprint\u001b[39m(\u001b[38;5;124m'\u001b[39m\u001b[38;5;124mGood Morning,\u001b[39m\u001b[38;5;124m'\u001b[39m, name)\n\u001b[0;32m      4\u001b[0m     \u001b[38;5;28mprint\u001b[39m(\u001b[38;5;124m'\u001b[39m\u001b[38;5;124mPlease eat\u001b[39m\u001b[38;5;124m'\u001b[39m, dish)\n\u001b[1;32m----> 5\u001b[0m \u001b[43mgreet\u001b[49m\u001b[43m(\u001b[49m\u001b[38;5;124;43m'\u001b[39;49m\u001b[38;5;124;43mAman\u001b[39;49m\u001b[38;5;124;43m'\u001b[39;49m\u001b[43m)\u001b[49m\n",
      "\u001b[1;31mTypeError\u001b[0m: greet() missing 1 required positional argument: 'dish'"
     ]
    }
   ],
   "source": [
    "# If dish name is not given then it will throw error:\n",
    "def greet(name, dish):\n",
    "    print('Good Morning,', name)\n",
    "    print('Please eat', dish)\n",
    "greet('Aman')"
   ]
  },
  {
   "cell_type": "code",
   "execution_count": 167,
   "id": "796291eb-f5b8-45bf-a3af-d7f48f3ec821",
   "metadata": {},
   "outputs": [
    {
     "name": "stdout",
     "output_type": "stream",
     "text": [
      "Good Morning, Aman\n",
      "Please eat Biryani\n"
     ]
    }
   ],
   "source": [
    "# So another way to write is declaring name of dish at starting:\n",
    "def greet(name, dish='Biryani'):\n",
    "    print('Good Morning,', name)\n",
    "    print('Please eat', dish)\n",
    "greet('Aman')"
   ]
  },
  {
   "cell_type": "code",
   "execution_count": 171,
   "id": "4eb765db-29fa-4837-b4b0-aea978c434cd",
   "metadata": {},
   "outputs": [
    {
     "name": "stdout",
     "output_type": "stream",
     "text": [
      "Sum of marks are:\n",
      "244\n"
     ]
    }
   ],
   "source": [
    "# Returning from the functions\n",
    "# The return statement is used to exit a function and go back to the place from where it was called.\n",
    "# return {expression_list}\n",
    "\n",
    "def sum_of_list(a):\n",
    "    print('Sum of marks are:')\n",
    "    return sum(a)\n",
    "\n",
    "marks = [45,67,83,49]\n",
    "sum_of_marks = sum_of_list(marks)\n",
    "\n",
    "print(sum_of_marks)\n",
    "    \n"
   ]
  },
  {
   "cell_type": "code",
   "execution_count": 176,
   "id": "8cd351b9-d742-43ed-88bd-ce56eb3c2222",
   "metadata": {},
   "outputs": [
    {
     "name": "stdout",
     "output_type": "stream",
     "text": [
      "hell0\n",
      "['Aman', 'Ankit', 'saurabh', 'Anish'] None\n"
     ]
    }
   ],
   "source": [
    "# Write a function which takes a list of names as argument and greets \"Hello\" to everyone.\n",
    "def list_of_names(a):\n",
    "    print(\"hell0\")\n",
    "\n",
    "list1=['Aman', 'Ankit', 'saurabh', 'Anish']\n",
    "greet= list_of_names(list1)\n",
    "print(list1, greet)\n",
    "\n"
   ]
  },
  {
   "cell_type": "code",
   "execution_count": 175,
   "id": "56e4098a-d806-4498-906b-1a741e4557f8",
   "metadata": {},
   "outputs": [
    {
     "name": "stdout",
     "output_type": "stream",
     "text": [
      "hell0 Aman\n",
      "hell0 Ankit\n",
      "hell0 saurabh\n",
      "hell0 Anish\n"
     ]
    }
   ],
   "source": [
    "def greetings(names):\n",
    "    for name in names:\n",
    "        print(\"hell0\", name)\n",
    "\n",
    "names=['Aman', 'Ankit', 'saurabh', 'Anish']\n",
    "greetings(names)\n"
   ]
  },
  {
   "cell_type": "markdown",
   "id": "a599da72-628c-4ccb-957d-df5b683aa7a9",
   "metadata": {},
   "source": []
  }
 ],
 "metadata": {
  "kernelspec": {
   "display_name": "Python 3 (ipykernel)",
   "language": "python",
   "name": "python3"
  },
  "language_info": {
   "codemirror_mode": {
    "name": "ipython",
    "version": 3
   },
   "file_extension": ".py",
   "mimetype": "text/x-python",
   "name": "python",
   "nbconvert_exporter": "python",
   "pygments_lexer": "ipython3",
   "version": "3.12.6"
  }
 },
 "nbformat": 4,
 "nbformat_minor": 5
}
