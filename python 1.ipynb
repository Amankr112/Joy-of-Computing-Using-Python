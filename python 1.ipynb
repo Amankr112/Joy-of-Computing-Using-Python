{
 "cells": [
  {
   "cell_type": "code",
   "execution_count": 2,
   "id": "a11199ac-e268-46f4-9500-4f55300b3ae6",
   "metadata": {},
   "outputs": [
    {
     "name": "stdout",
     "output_type": "stream",
     "text": [
      "hello World\n",
      "My name is Aman\n"
     ]
    }
   ],
   "source": [
    "print('hello World')\n",
    "print(\"My name is Aman\")"
   ]
  },
  {
   "cell_type": "code",
   "execution_count": 3,
   "id": "7b4c8452-2b83-4f0d-8369-87c86ce49e1e",
   "metadata": {},
   "outputs": [
    {
     "name": "stdout",
     "output_type": "stream",
     "text": [
      "22\n",
      "Aman\n"
     ]
    }
   ],
   "source": [
    "# Identifiers: \n",
    "# ->use only alphanumeric characters and underscore\n",
    "# ->Never start with number\n",
    "# ->Use underscores to separate two words\n",
    "# ->Keywords can not be identifiers.\n",
    "\n",
    "age=22\n",
    "name=\"Aman\"\n",
    "print(age)\n",
    "print(name)"
   ]
  },
  {
   "cell_type": "code",
   "execution_count": 6,
   "id": "eaa155b7-3a40-40dd-b4e7-e09929d12d2b",
   "metadata": {},
   "outputs": [
    {
     "name": "stdout",
     "output_type": "stream",
     "text": [
      "4.7 <class 'float'>\n",
      "Aman <class 'str'>\n",
      "96 <class 'int'>\n",
      "True <class 'bool'>\n",
      "(4+5j) <class 'complex'>\n",
      "['Apple', 'Mango', 'Banana'] <class 'list'>\n"
     ]
    }
   ],
   "source": [
    "# Data_Type\n",
    "rating= 4.7\n",
    "print(rating, type(rating))\n",
    "Name=\"Aman\"\n",
    "print(Name, type(Name))\n",
    "marks=96\n",
    "print(marks, type(marks))\n",
    "\n",
    "is_passed= True\n",
    "print(is_passed, type(is_passed))\n",
    "my_complex_number=4+5j\n",
    "print(my_complex_number, type(my_complex_number))\n",
    "fruit_lists=['Apple', 'Mango', 'Banana']\n",
    "print(fruit_lists, type(fruit_lists))"
   ]
  },
  {
   "cell_type": "code",
   "execution_count": 7,
   "id": "86bb53af-4fa1-4b67-961a-b279f2ac8310",
   "metadata": {},
   "outputs": [
    {
     "name": "stdout",
     "output_type": "stream",
     "text": [
      "Aman\n",
      "22\n",
      "True\n",
      "['Chhole bhature', 'Biryani']\n"
     ]
    }
   ],
   "source": [
    "# Write a program to save the following values of a user: Name, age, year of birth, Is New user?, List of his favourite food.\n",
    "name=\"Aman\"\n",
    "age=22\n",
    "DOB=11-10-2002\n",
    "Is_new_user= True\n",
    "Favourite_food=['Chhole bhature', 'Biryani']\n",
    "print(Name)\n",
    "print(age)\n",
    "print(Is_new_user)\n",
    "print(Favourite_food)"
   ]
  },
  {
   "cell_type": "code",
   "execution_count": 9,
   "id": "31bf9a2a-cf65-46da-a3b5-10f2cf0b9b78",
   "metadata": {},
   "outputs": [
    {
     "name": "stdout",
     "output_type": "stream",
     "text": [
      "8\n",
      "8\n",
      "2\n",
      "15\n",
      "1.6666666666666667\n",
      "2\n",
      "1\n",
      "125\n"
     ]
    }
   ],
   "source": [
    "# Python Operators:\n",
    "#1.) Arithematic \n",
    "a=5\n",
    "b=3\n",
    "c=a+b\n",
    "print(c)\n",
    "print(a+b)\n",
    "print(a-b)\n",
    "print(a*b)\n",
    "print(a/b)\n",
    "print(a%b) #gives remainder\n",
    "print(a//b)  #gives quotient without point value.\n",
    "print(a**b) #power 5^3\n"
   ]
  },
  {
   "cell_type": "code",
   "execution_count": 10,
   "id": "867be176-456b-4402-ae88-0c0b75226774",
   "metadata": {},
   "outputs": [
    {
     "name": "stdout",
     "output_type": "stream",
     "text": [
      "4.333333333333333\n"
     ]
    }
   ],
   "source": [
    "#write a program to average of three numbers\n",
    "a=3\n",
    "b=6\n",
    "c=4\n",
    "avg=(a+b+c)/3\n",
    "print(avg)"
   ]
  },
  {
   "cell_type": "code",
   "execution_count": 14,
   "id": "5899ddbc-a3db-4e4a-9792-8d683f988545",
   "metadata": {},
   "outputs": [
    {
     "name": "stdout",
     "output_type": "stream",
     "text": [
      "11\n"
     ]
    }
   ],
   "source": [
    "#2.) Assignmnet Operator: +=, -=, *=, /=, %=.....\n",
    "a=6\n",
    "# a=a+5\n",
    "a+=5\n",
    "print(a)\n"
   ]
  },
  {
   "cell_type": "code",
   "execution_count": 18,
   "id": "7e8b3b8d-5222-4858-b184-6322855f0847",
   "metadata": {},
   "outputs": [
    {
     "name": "stdout",
     "output_type": "stream",
     "text": [
      "a>b True\n",
      "a==b False\n",
      "a<=b False\n",
      "a>=b True\n",
      "a!=b True\n"
     ]
    }
   ],
   "source": [
    "#3.) Comparison Operators: ==, !=, <, >, <=, >=\n",
    "a=45\n",
    "b=23\n",
    "print('a>b',a>b)\n",
    "print('a==b',a==b)\n",
    "print('a<=b',a<=b)\n",
    "print('a>=b',a>=b)\n",
    "print('a!=b',a!=b)\n"
   ]
  },
  {
   "cell_type": "code",
   "execution_count": 21,
   "id": "fb109455-1051-4d09-9128-dc234c9d2f1d",
   "metadata": {},
   "outputs": [
    {
     "name": "stdout",
     "output_type": "stream",
     "text": [
      "x and y is: False\n",
      "x or y is: True\n",
      "x not y is: False\n"
     ]
    }
   ],
   "source": [
    "#4.) Logical Operators:\n",
    "x=True\n",
    "y=False\n",
    "\n",
    "print('x and y is:', x and y)\n",
    "print('x or y is:', x or y)\n",
    "print('x not y is:', not x)"
   ]
  },
  {
   "cell_type": "code",
   "execution_count": null,
   "id": "31a7729f-49e7-447d-9968-9ce809849d64",
   "metadata": {},
   "outputs": [],
   "source": []
  }
 ],
 "metadata": {
  "kernelspec": {
   "display_name": "Python 3 (ipykernel)",
   "language": "python",
   "name": "python3"
  },
  "language_info": {
   "codemirror_mode": {
    "name": "ipython",
    "version": 3
   },
   "file_extension": ".py",
   "mimetype": "text/x-python",
   "name": "python",
   "nbconvert_exporter": "python",
   "pygments_lexer": "ipython3",
   "version": "3.12.6"
  }
 },
 "nbformat": 4,
 "nbformat_minor": 5
}
